{
  "nbformat": 4,
  "nbformat_minor": 0,
  "metadata": {
    "colab": {
      "name": "PythonDataScienceHandbookVanderPlas.ipynb",
      "provenance": [],
      "include_colab_link": true
    },
    "kernelspec": {
      "name": "python3",
      "display_name": "Python 3"
    }
  },
  "cells": [
    {
      "cell_type": "markdown",
      "metadata": {
        "id": "view-in-github",
        "colab_type": "text"
      },
      "source": [
        "<a href=\"https://colab.research.google.com/github/MahreenAthar/PythonDataScienceHandbookVanderPlas/blob/master/PythonDataScienceHandbookVanderPlas.ipynb\" target=\"_parent\"><img src=\"https://colab.research.google.com/assets/colab-badge.svg\" alt=\"Open In Colab\"/></a>"
      ]
    },
    {
      "cell_type": "code",
      "metadata": {
        "id": "dFMRJu8c2t7J",
        "colab_type": "code",
        "colab": {
          "base_uri": "https://localhost:8080/",
          "height": 102
        },
        "outputId": "4a0186f8-3224-4a4d-fdea-6acf3d75c145"
      },
      "source": [
        "help(len)\n",
        "len?"
      ],
      "execution_count": 3,
      "outputs": [
        {
          "output_type": "stream",
          "text": [
            "Help on built-in function len in module builtins:\n",
            "\n",
            "len(obj, /)\n",
            "    Return the number of items in a container.\n",
            "\n"
          ],
          "name": "stdout"
        }
      ]
    },
    {
      "cell_type": "code",
      "metadata": {
        "id": "IImm7GURLePU",
        "colab_type": "code",
        "colab": {}
      },
      "source": [
        "def square(a):\n",
        "  \"Return the square of a.\"\n",
        "  return a**2\n",
        "square?"
      ],
      "execution_count": 0,
      "outputs": []
    },
    {
      "cell_type": "code",
      "metadata": {
        "id": "I_aIrWCUo_O8",
        "colab_type": "code",
        "colab": {}
      },
      "source": [
        "#Shortcuts\n",
        "Ctrl-a Move cursor to the beginning of the line\n",
        "Ctrl-e Move cursor to the end of the line\n",
        "Ctrl-b (or the left arrow key) Move cursor back one character\n",
        "Ctrl-f (or the right arrow key) Move cursor forward one character\n",
        "Backspace key Delete previous character in line\n",
        "Ctrl-d Delete next character in line\n",
        "Ctrl-k Cut text from cursor to end of line\n",
        "Ctrl-u Cut text from beginning fo line to cursor\n",
        "Ctrl-y Yank (i.e., paste) text that was previously cut\n",
        "Ctrl-t Transpose (i.e., switch) previous two characters\n",
        "Ctrl-p (or the up arrow key) Access previous command in history\n",
        "Ctrl-n (or the down arrow key) Access next command in history\n",
        "Ctrl-r Reverse-search through command history\n",
        "Ctrl-l Clear terminal screen\n",
        "Ctrl-c Interrupt current Python command\n",
        "Ctrl-d Exit IPython sessiong"
      ],
      "execution_count": 0,
      "outputs": []
    }
  ]
}