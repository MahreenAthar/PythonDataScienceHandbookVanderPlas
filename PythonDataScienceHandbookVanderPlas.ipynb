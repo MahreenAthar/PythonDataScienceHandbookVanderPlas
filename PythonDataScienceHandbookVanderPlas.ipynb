{
  "nbformat": 4,
  "nbformat_minor": 0,
  "metadata": {
    "colab": {
      "name": "PythonDataScienceHandbookVanderPlas.ipynb",
      "provenance": [],
      "collapsed_sections": [],
      "include_colab_link": true
    },
    "kernelspec": {
      "name": "python3",
      "display_name": "Python 3"
    }
  },
  "cells": [
    {
      "cell_type": "markdown",
      "metadata": {
        "id": "view-in-github",
        "colab_type": "text"
      },
      "source": [
        "<a href=\"https://colab.research.google.com/github/MahreenAthar/PythonDataScienceHandbookVanderPlas/blob/master/PythonDataScienceHandbookVanderPlas.ipynb\" target=\"_parent\"><img src=\"https://colab.research.google.com/assets/colab-badge.svg\" alt=\"Open In Colab\"/></a>"
      ]
    },
    {
      "cell_type": "code",
      "metadata": {
        "id": "Ij5hu7rKTxqk",
        "colab_type": "code",
        "colab": {}
      },
      "source": [
        "import numpy as np"
      ],
      "execution_count": 0,
      "outputs": []
    },
    {
      "cell_type": "code",
      "metadata": {
        "id": "09MWaVdYb2jl",
        "colab_type": "code",
        "colab": {}
      },
      "source": [
        "result = 0\n",
        "for i in range(100):\n",
        "  result += i"
      ],
      "execution_count": 0,
      "outputs": []
    },
    {
      "cell_type": "code",
      "metadata": {
        "id": "CY4Ad8t0lBcO",
        "colab_type": "code",
        "outputId": "acfa77c1-7bb2-4100-efba-98ba44c61d9e",
        "colab": {
          "base_uri": "https://localhost:8080/",
          "height": 34
        }
      },
      "source": [
        "L = list(range(10))\n",
        "L"
      ],
      "execution_count": 0,
      "outputs": [
        {
          "output_type": "execute_result",
          "data": {
            "text/plain": [
              "[0, 1, 2, 3, 4, 5, 6, 7, 8, 9]"
            ]
          },
          "metadata": {
            "tags": []
          },
          "execution_count": 2
        }
      ]
    },
    {
      "cell_type": "code",
      "metadata": {
        "id": "SfjEKdRilDph",
        "colab_type": "code",
        "outputId": "201a95f1-be41-4b86-912c-0b1f8ed2ea85",
        "colab": {
          "base_uri": "https://localhost:8080/",
          "height": 34
        }
      },
      "source": [
        "type(L[0])"
      ],
      "execution_count": 0,
      "outputs": [
        {
          "output_type": "execute_result",
          "data": {
            "text/plain": [
              "int"
            ]
          },
          "metadata": {
            "tags": []
          },
          "execution_count": 3
        }
      ]
    },
    {
      "cell_type": "code",
      "metadata": {
        "id": "7EJ5qQnVlIOT",
        "colab_type": "code",
        "outputId": "01e3de9c-2f3f-4ac2-f3d6-aa4bc18a3936",
        "colab": {
          "base_uri": "https://localhost:8080/",
          "height": 34
        }
      },
      "source": [
        "L2 = [str(c) for c in L]\n",
        "L2"
      ],
      "execution_count": 0,
      "outputs": [
        {
          "output_type": "execute_result",
          "data": {
            "text/plain": [
              "['0', '1', '2', '3', '4', '5', '6', '7', '8', '9']"
            ]
          },
          "metadata": {
            "tags": []
          },
          "execution_count": 4
        }
      ]
    },
    {
      "cell_type": "code",
      "metadata": {
        "id": "VJUZvLZNlLsP",
        "colab_type": "code",
        "outputId": "44e33aa8-2d35-4580-bd92-b4184355232a",
        "colab": {
          "base_uri": "https://localhost:8080/",
          "height": 34
        }
      },
      "source": [
        "type(L2[0])"
      ],
      "execution_count": 0,
      "outputs": [
        {
          "output_type": "execute_result",
          "data": {
            "text/plain": [
              "str"
            ]
          },
          "metadata": {
            "tags": []
          },
          "execution_count": 5
        }
      ]
    },
    {
      "cell_type": "code",
      "metadata": {
        "id": "ghXEyZD5lPTv",
        "colab_type": "code",
        "outputId": "9e51ca8b-1678-4221-e86a-dba56884eac9",
        "colab": {
          "base_uri": "https://localhost:8080/",
          "height": 34
        }
      },
      "source": [
        "L3 = [True, \"2\", 3.0, 4]\n",
        "[type(item) for item in L3]"
      ],
      "execution_count": 0,
      "outputs": [
        {
          "output_type": "execute_result",
          "data": {
            "text/plain": [
              "[bool, str, float, int]"
            ]
          },
          "metadata": {
            "tags": []
          },
          "execution_count": 6
        }
      ]
    },
    {
      "cell_type": "code",
      "metadata": {
        "id": "IA7O7yVMlTSp",
        "colab_type": "code",
        "outputId": "18f81cd8-2031-4b98-d527-f60863e3efd9",
        "colab": {
          "base_uri": "https://localhost:8080/",
          "height": 34
        }
      },
      "source": [
        "import array\n",
        "L = list(range(10))\n",
        "A = array.array('i', L)\n",
        "A"
      ],
      "execution_count": 0,
      "outputs": [
        {
          "output_type": "execute_result",
          "data": {
            "text/plain": [
              "array('i', [0, 1, 2, 3, 4, 5, 6, 7, 8, 9])"
            ]
          },
          "metadata": {
            "tags": []
          },
          "execution_count": 7
        }
      ]
    },
    {
      "cell_type": "code",
      "metadata": {
        "id": "5Bx88C9glXwR",
        "colab_type": "code",
        "outputId": "ea389730-1fe8-4a76-d7ce-8895f5c175d4",
        "colab": {
          "base_uri": "https://localhost:8080/",
          "height": 34
        }
      },
      "source": [
        "np.array([1, 4, 2, 5, 3])"
      ],
      "execution_count": 0,
      "outputs": [
        {
          "output_type": "execute_result",
          "data": {
            "text/plain": [
              "array([1, 4, 2, 5, 3])"
            ]
          },
          "metadata": {
            "tags": []
          },
          "execution_count": 8
        }
      ]
    },
    {
      "cell_type": "code",
      "metadata": {
        "id": "Cvu_6ibKlbcE",
        "colab_type": "code",
        "outputId": "4b5d4a29-b376-44ed-eba4-34c94ed248df",
        "colab": {
          "base_uri": "https://localhost:8080/",
          "height": 34
        }
      },
      "source": [
        "np.array([3.14, 4, 2, 3])"
      ],
      "execution_count": 0,
      "outputs": [
        {
          "output_type": "execute_result",
          "data": {
            "text/plain": [
              "array([3.14, 4.  , 2.  , 3.  ])"
            ]
          },
          "metadata": {
            "tags": []
          },
          "execution_count": 9
        }
      ]
    },
    {
      "cell_type": "code",
      "metadata": {
        "id": "X4EmLX_jlhrY",
        "colab_type": "code",
        "outputId": "2cdc69d9-04ba-4f1b-fc87-1ffddef350f8",
        "colab": {
          "base_uri": "https://localhost:8080/",
          "height": 34
        }
      },
      "source": [
        "np.array([1, 2, 3, 4], dtype='float32')"
      ],
      "execution_count": 0,
      "outputs": [
        {
          "output_type": "execute_result",
          "data": {
            "text/plain": [
              "array([1., 2., 3., 4.], dtype=float32)"
            ]
          },
          "metadata": {
            "tags": []
          },
          "execution_count": 10
        }
      ]
    },
    {
      "cell_type": "code",
      "metadata": {
        "id": "njU3aqpDlk5q",
        "colab_type": "code",
        "outputId": "3ec28ea1-17c1-4278-a2f1-8de6468dd038",
        "colab": {
          "base_uri": "https://localhost:8080/",
          "height": 68
        }
      },
      "source": [
        "np.array([range(i, i + 3) for i in [2, 4, 6]])"
      ],
      "execution_count": 0,
      "outputs": [
        {
          "output_type": "execute_result",
          "data": {
            "text/plain": [
              "array([[2, 3, 4],\n",
              "       [4, 5, 6],\n",
              "       [6, 7, 8]])"
            ]
          },
          "metadata": {
            "tags": []
          },
          "execution_count": 11
        }
      ]
    },
    {
      "cell_type": "code",
      "metadata": {
        "id": "2yKCWg9Dlmko",
        "colab_type": "code",
        "outputId": "f12d43fa-f0b5-4ef8-a115-93883f4fcb3d",
        "colab": {
          "base_uri": "https://localhost:8080/",
          "height": 34
        }
      },
      "source": [
        "np.zeros(10, dtype=int)"
      ],
      "execution_count": 0,
      "outputs": [
        {
          "output_type": "execute_result",
          "data": {
            "text/plain": [
              "array([0, 0, 0, 0, 0, 0, 0, 0, 0, 0])"
            ]
          },
          "metadata": {
            "tags": []
          },
          "execution_count": 12
        }
      ]
    },
    {
      "cell_type": "code",
      "metadata": {
        "id": "55kerHubluja",
        "colab_type": "code",
        "outputId": "72fb6b58-b53f-48f6-f03d-9b07215551b7",
        "colab": {
          "base_uri": "https://localhost:8080/",
          "height": 68
        }
      },
      "source": [
        "np.ones((3, 5), dtype=float)"
      ],
      "execution_count": 0,
      "outputs": [
        {
          "output_type": "execute_result",
          "data": {
            "text/plain": [
              "array([[1., 1., 1., 1., 1.],\n",
              "       [1., 1., 1., 1., 1.],\n",
              "       [1., 1., 1., 1., 1.]])"
            ]
          },
          "metadata": {
            "tags": []
          },
          "execution_count": 13
        }
      ]
    },
    {
      "cell_type": "code",
      "metadata": {
        "id": "93AlFhdVlvzX",
        "colab_type": "code",
        "outputId": "2dc2cff1-d6e9-48de-c9e0-c138161e18f1",
        "colab": {
          "base_uri": "https://localhost:8080/",
          "height": 68
        }
      },
      "source": [
        "np.full((3, 5), 3.14)"
      ],
      "execution_count": 0,
      "outputs": [
        {
          "output_type": "execute_result",
          "data": {
            "text/plain": [
              "array([[3.14, 3.14, 3.14, 3.14, 3.14],\n",
              "       [3.14, 3.14, 3.14, 3.14, 3.14],\n",
              "       [3.14, 3.14, 3.14, 3.14, 3.14]])"
            ]
          },
          "metadata": {
            "tags": []
          },
          "execution_count": 14
        }
      ]
    },
    {
      "cell_type": "code",
      "metadata": {
        "id": "HAMEcNVUlyt_",
        "colab_type": "code",
        "outputId": "0218d462-4c26-43c3-ce38-f4f5a210d78d",
        "colab": {
          "base_uri": "https://localhost:8080/",
          "height": 34
        }
      },
      "source": [
        "np.arange(0, 20, 2)"
      ],
      "execution_count": 0,
      "outputs": [
        {
          "output_type": "execute_result",
          "data": {
            "text/plain": [
              "array([ 0,  2,  4,  6,  8, 10, 12, 14, 16, 18])"
            ]
          },
          "metadata": {
            "tags": []
          },
          "execution_count": 15
        }
      ]
    },
    {
      "cell_type": "code",
      "metadata": {
        "id": "JjqsR92vl2Uj",
        "colab_type": "code",
        "outputId": "f882661e-b345-457b-9d08-76b7afd38bb5",
        "colab": {
          "base_uri": "https://localhost:8080/",
          "height": 34
        }
      },
      "source": [
        "np.linspace(0, 1, 5)"
      ],
      "execution_count": 0,
      "outputs": [
        {
          "output_type": "execute_result",
          "data": {
            "text/plain": [
              "array([0.  , 0.25, 0.5 , 0.75, 1.  ])"
            ]
          },
          "metadata": {
            "tags": []
          },
          "execution_count": 16
        }
      ]
    },
    {
      "cell_type": "code",
      "metadata": {
        "id": "PyQ_nwdHl5CC",
        "colab_type": "code",
        "outputId": "d11cf2c2-c2fb-4ee6-8455-d60d242ec009",
        "colab": {
          "base_uri": "https://localhost:8080/",
          "height": 68
        }
      },
      "source": [
        "np.random.random((3, 3))"
      ],
      "execution_count": 0,
      "outputs": [
        {
          "output_type": "execute_result",
          "data": {
            "text/plain": [
              "array([[0.17197591, 0.64164654, 0.19270847],\n",
              "       [0.41619461, 0.9713572 , 0.68055268],\n",
              "       [0.38236014, 0.72408535, 0.42698814]])"
            ]
          },
          "metadata": {
            "tags": []
          },
          "execution_count": 17
        }
      ]
    },
    {
      "cell_type": "code",
      "metadata": {
        "id": "MYajBa2XmMlv",
        "colab_type": "code",
        "outputId": "775bb5bf-0827-4b11-98b5-d917d5335e32",
        "colab": {
          "base_uri": "https://localhost:8080/",
          "height": 68
        }
      },
      "source": [
        "np.random.normal(0, 1, (3, 3))"
      ],
      "execution_count": 0,
      "outputs": [
        {
          "output_type": "execute_result",
          "data": {
            "text/plain": [
              "array([[-0.92296411, -0.69285447, -0.08597271],\n",
              "       [-0.09929261, -0.08092715,  0.03013333],\n",
              "       [ 0.49470347,  0.87937418,  0.29620015]])"
            ]
          },
          "metadata": {
            "tags": []
          },
          "execution_count": 18
        }
      ]
    },
    {
      "cell_type": "code",
      "metadata": {
        "id": "2kEfbxlNmN3l",
        "colab_type": "code",
        "outputId": "ed35d282-1ebe-4774-e26e-471110e8471f",
        "colab": {
          "base_uri": "https://localhost:8080/",
          "height": 68
        }
      },
      "source": [
        "np.random.randint(0, 10, (3, 3))"
      ],
      "execution_count": 0,
      "outputs": [
        {
          "output_type": "execute_result",
          "data": {
            "text/plain": [
              "array([[2, 1, 7],\n",
              "       [9, 6, 3],\n",
              "       [8, 4, 9]])"
            ]
          },
          "metadata": {
            "tags": []
          },
          "execution_count": 19
        }
      ]
    },
    {
      "cell_type": "code",
      "metadata": {
        "id": "HZpnho5MmQ2U",
        "colab_type": "code",
        "outputId": "9bca6574-2f62-431e-a65d-6106cb7186af",
        "colab": {
          "base_uri": "https://localhost:8080/",
          "height": 68
        }
      },
      "source": [
        "np.eye(3)"
      ],
      "execution_count": 0,
      "outputs": [
        {
          "output_type": "execute_result",
          "data": {
            "text/plain": [
              "array([[1., 0., 0.],\n",
              "       [0., 1., 0.],\n",
              "       [0., 0., 1.]])"
            ]
          },
          "metadata": {
            "tags": []
          },
          "execution_count": 20
        }
      ]
    },
    {
      "cell_type": "code",
      "metadata": {
        "id": "mE651Dp2mwhX",
        "colab_type": "code",
        "outputId": "dea989e0-ae67-4a1b-e634-3d1c08bbd95e",
        "colab": {
          "base_uri": "https://localhost:8080/",
          "height": 34
        }
      },
      "source": [
        "np.empty(3)"
      ],
      "execution_count": 0,
      "outputs": [
        {
          "output_type": "execute_result",
          "data": {
            "text/plain": [
              "array([1., 1., 1.])"
            ]
          },
          "metadata": {
            "tags": []
          },
          "execution_count": 21
        }
      ]
    },
    {
      "cell_type": "code",
      "metadata": {
        "id": "5POLuEFHm0gR",
        "colab_type": "code",
        "outputId": "6fa491c8-e373-4aaa-fa18-80536f6cecd3",
        "colab": {
          "base_uri": "https://localhost:8080/",
          "height": 34
        }
      },
      "source": [
        "np.zeros(10, dtype='int16')"
      ],
      "execution_count": 0,
      "outputs": [
        {
          "output_type": "execute_result",
          "data": {
            "text/plain": [
              "array([0, 0, 0, 0, 0, 0, 0, 0, 0, 0], dtype=int16)"
            ]
          },
          "metadata": {
            "tags": []
          },
          "execution_count": 22
        }
      ]
    },
    {
      "cell_type": "code",
      "metadata": {
        "id": "31r5ss5om6Rq",
        "colab_type": "code",
        "outputId": "6538e2b6-7d9c-4675-e632-3d725cd59d00",
        "colab": {
          "base_uri": "https://localhost:8080/",
          "height": 34
        }
      },
      "source": [
        "np.zeros(10, dtype=np.int16)"
      ],
      "execution_count": 0,
      "outputs": [
        {
          "output_type": "execute_result",
          "data": {
            "text/plain": [
              "array([0, 0, 0, 0, 0, 0, 0, 0, 0, 0], dtype=int16)"
            ]
          },
          "metadata": {
            "tags": []
          },
          "execution_count": 23
        }
      ]
    },
    {
      "cell_type": "code",
      "metadata": {
        "id": "tXJxcs0pnLAj",
        "colab_type": "code",
        "colab": {}
      },
      "source": [
        "np.random.seed(0)"
      ],
      "execution_count": 0,
      "outputs": []
    },
    {
      "cell_type": "code",
      "metadata": {
        "id": "zPnAYCx4n4L1",
        "colab_type": "code",
        "colab": {}
      },
      "source": [
        "x1 = np.random.randint(10, size=6) \n",
        "x2 = np.random.randint(10, size=(3, 4)) \n",
        "x3 = np.random.randint(10, size=(3, 4, 5))"
      ],
      "execution_count": 0,
      "outputs": []
    },
    {
      "cell_type": "code",
      "metadata": {
        "id": "WJM4NFBAoJlo",
        "colab_type": "code",
        "outputId": "5db29d65-0d09-4292-85ad-aca224fcf03e",
        "colab": {
          "base_uri": "https://localhost:8080/",
          "height": 68
        }
      },
      "source": [
        "print(\"x3 ndim: \", x3.ndim)\n",
        "print(\"x3 shape:\", x3.shape)\n",
        "print(\"x3 size: \", x3.size)"
      ],
      "execution_count": 0,
      "outputs": [
        {
          "output_type": "stream",
          "text": [
            "x3 ndim:  3\n",
            "x3 shape: (3, 4, 5)\n",
            "x3 size:  60\n"
          ],
          "name": "stdout"
        }
      ]
    },
    {
      "cell_type": "code",
      "metadata": {
        "id": "tJm5ov0loNYY",
        "colab_type": "code",
        "outputId": "38822d5c-7548-47fa-e834-824964961295",
        "colab": {
          "base_uri": "https://localhost:8080/",
          "height": 34
        }
      },
      "source": [
        "print(\"dtype:\", x3.dtype)"
      ],
      "execution_count": 0,
      "outputs": [
        {
          "output_type": "stream",
          "text": [
            "dtype: int64\n"
          ],
          "name": "stdout"
        }
      ]
    },
    {
      "cell_type": "code",
      "metadata": {
        "id": "cjnD1YHyoWiH",
        "colab_type": "code",
        "outputId": "7e52d081-33d1-4c40-81a9-0d18e69b78ed",
        "colab": {
          "base_uri": "https://localhost:8080/",
          "height": 51
        }
      },
      "source": [
        "print(\"itemsize:\", x3.itemsize, \"bytes\")\n",
        "print(\"nbytes:\", x3.nbytes, \"bytes\")"
      ],
      "execution_count": 0,
      "outputs": [
        {
          "output_type": "stream",
          "text": [
            "itemsize: 8 bytes\n",
            "nbytes: 480 bytes\n"
          ],
          "name": "stdout"
        }
      ]
    },
    {
      "cell_type": "code",
      "metadata": {
        "id": "URnoL8JNocRd",
        "colab_type": "code",
        "outputId": "fb9c250d-448b-488f-acd9-2dc00c65fd49",
        "colab": {
          "base_uri": "https://localhost:8080/",
          "height": 34
        }
      },
      "source": [
        "x1"
      ],
      "execution_count": 0,
      "outputs": [
        {
          "output_type": "execute_result",
          "data": {
            "text/plain": [
              "7"
            ]
          },
          "metadata": {
            "tags": []
          },
          "execution_count": 31
        }
      ]
    },
    {
      "cell_type": "code",
      "metadata": {
        "id": "bycWj1i1oxFn",
        "colab_type": "code",
        "outputId": "8f1a8754-1da0-4faf-ac01-51de9cf3839d",
        "colab": {
          "base_uri": "https://localhost:8080/",
          "height": 34
        }
      },
      "source": [
        "x1[0]"
      ],
      "execution_count": 0,
      "outputs": [
        {
          "output_type": "execute_result",
          "data": {
            "text/plain": [
              "5"
            ]
          },
          "metadata": {
            "tags": []
          },
          "execution_count": 32
        }
      ]
    },
    {
      "cell_type": "code",
      "metadata": {
        "id": "RR4vOSkwoyoS",
        "colab_type": "code",
        "outputId": "d4dc389b-0f4a-4060-9c75-dc87c7f47675",
        "colab": {
          "base_uri": "https://localhost:8080/",
          "height": 34
        }
      },
      "source": [
        "x1[4]"
      ],
      "execution_count": 0,
      "outputs": [
        {
          "output_type": "execute_result",
          "data": {
            "text/plain": [
              "7"
            ]
          },
          "metadata": {
            "tags": []
          },
          "execution_count": 33
        }
      ]
    },
    {
      "cell_type": "code",
      "metadata": {
        "id": "fxokRXhPo2zA",
        "colab_type": "code",
        "outputId": "ab88babf-ed7c-48a2-bbaf-02cc9df84b52",
        "colab": {
          "base_uri": "https://localhost:8080/",
          "height": 34
        }
      },
      "source": [
        "x1[-1]"
      ],
      "execution_count": 0,
      "outputs": [
        {
          "output_type": "execute_result",
          "data": {
            "text/plain": [
              "9"
            ]
          },
          "metadata": {
            "tags": []
          },
          "execution_count": 34
        }
      ]
    },
    {
      "cell_type": "code",
      "metadata": {
        "id": "Niyww8DopFMt",
        "colab_type": "code",
        "outputId": "f3624982-a1eb-4493-8f8f-9df789077dbd",
        "colab": {
          "base_uri": "https://localhost:8080/",
          "height": 34
        }
      },
      "source": [
        "x1[-2]"
      ],
      "execution_count": 0,
      "outputs": [
        {
          "output_type": "execute_result",
          "data": {
            "text/plain": [
              "7"
            ]
          },
          "metadata": {
            "tags": []
          },
          "execution_count": 35
        }
      ]
    },
    {
      "cell_type": "code",
      "metadata": {
        "id": "FofDJBP-pGN9",
        "colab_type": "code",
        "outputId": "a2164045-b1e7-4d98-99dc-91f1ff9e31f2",
        "colab": {
          "base_uri": "https://localhost:8080/",
          "height": 68
        }
      },
      "source": [
        "x2"
      ],
      "execution_count": 0,
      "outputs": [
        {
          "output_type": "execute_result",
          "data": {
            "text/plain": [
              "array([[3, 5, 2, 4],\n",
              "       [7, 6, 8, 8],\n",
              "       [1, 6, 7, 7]])"
            ]
          },
          "metadata": {
            "tags": []
          },
          "execution_count": 36
        }
      ]
    },
    {
      "cell_type": "code",
      "metadata": {
        "id": "e5VO-OtgpI7k",
        "colab_type": "code",
        "outputId": "d268ae2e-26dc-4073-b700-00b20b18166d",
        "colab": {
          "base_uri": "https://localhost:8080/",
          "height": 34
        }
      },
      "source": [
        "x2[0, 0]"
      ],
      "execution_count": 0,
      "outputs": [
        {
          "output_type": "execute_result",
          "data": {
            "text/plain": [
              "3"
            ]
          },
          "metadata": {
            "tags": []
          },
          "execution_count": 37
        }
      ]
    },
    {
      "cell_type": "code",
      "metadata": {
        "id": "m-ba_dflpLUR",
        "colab_type": "code",
        "outputId": "2ab72ec7-9776-4f05-8b45-1c6b750b3176",
        "colab": {
          "base_uri": "https://localhost:8080/",
          "height": 34
        }
      },
      "source": [
        "x2[2, 0]"
      ],
      "execution_count": 0,
      "outputs": [
        {
          "output_type": "execute_result",
          "data": {
            "text/plain": [
              "1"
            ]
          },
          "metadata": {
            "tags": []
          },
          "execution_count": 38
        }
      ]
    },
    {
      "cell_type": "code",
      "metadata": {
        "id": "fMJHh2h2pPZB",
        "colab_type": "code",
        "outputId": "a859dd83-63a0-4af4-940a-d15fa6792902",
        "colab": {
          "base_uri": "https://localhost:8080/",
          "height": 34
        }
      },
      "source": [
        "x2[2, -1]"
      ],
      "execution_count": 0,
      "outputs": [
        {
          "output_type": "execute_result",
          "data": {
            "text/plain": [
              "7"
            ]
          },
          "metadata": {
            "tags": []
          },
          "execution_count": 39
        }
      ]
    },
    {
      "cell_type": "code",
      "metadata": {
        "id": "ZWi9Etn2qQ8o",
        "colab_type": "code",
        "outputId": "651a7e64-29bf-42c6-a757-66a91d6fa97c",
        "colab": {
          "base_uri": "https://localhost:8080/",
          "height": 68
        }
      },
      "source": [
        "x2[0, 0] = 12\n",
        "x2"
      ],
      "execution_count": 0,
      "outputs": [
        {
          "output_type": "execute_result",
          "data": {
            "text/plain": [
              "array([[12,  5,  2,  4],\n",
              "       [ 7,  6,  8,  8],\n",
              "       [ 1,  6,  7,  7]])"
            ]
          },
          "metadata": {
            "tags": []
          },
          "execution_count": 40
        }
      ]
    },
    {
      "cell_type": "code",
      "metadata": {
        "id": "Eqe-RAQGqWQf",
        "colab_type": "code",
        "outputId": "8a9adba9-e7c3-4112-d602-12294dff3eba",
        "colab": {
          "base_uri": "https://localhost:8080/",
          "height": 34
        }
      },
      "source": [
        "x1[0] = 3.14159\n",
        "x1"
      ],
      "execution_count": 0,
      "outputs": [
        {
          "output_type": "execute_result",
          "data": {
            "text/plain": [
              "array([3, 0, 3, 3, 7, 9])"
            ]
          },
          "metadata": {
            "tags": []
          },
          "execution_count": 41
        }
      ]
    },
    {
      "cell_type": "code",
      "metadata": {
        "id": "DM7Eo3fYqcXv",
        "colab_type": "code",
        "outputId": "690a9429-f4ae-4f7d-b5bc-e30c759d6f3e",
        "colab": {
          "base_uri": "https://localhost:8080/",
          "height": 34
        }
      },
      "source": [
        "x = np.arange(10)\n",
        "x"
      ],
      "execution_count": 0,
      "outputs": [
        {
          "output_type": "execute_result",
          "data": {
            "text/plain": [
              "array([0, 1, 2, 3, 4, 5, 6, 7, 8, 9])"
            ]
          },
          "metadata": {
            "tags": []
          },
          "execution_count": 42
        }
      ]
    },
    {
      "cell_type": "code",
      "metadata": {
        "id": "ZRH09yl2qeAo",
        "colab_type": "code",
        "outputId": "71fd38b8-8f74-48f7-b66f-31e2a105a447",
        "colab": {
          "base_uri": "https://localhost:8080/",
          "height": 34
        }
      },
      "source": [
        "x[:5]"
      ],
      "execution_count": 0,
      "outputs": [
        {
          "output_type": "execute_result",
          "data": {
            "text/plain": [
              "array([0, 1, 2, 3, 4])"
            ]
          },
          "metadata": {
            "tags": []
          },
          "execution_count": 43
        }
      ]
    },
    {
      "cell_type": "code",
      "metadata": {
        "id": "6JN94tkzqh9J",
        "colab_type": "code",
        "outputId": "659168d2-d8d9-4dba-9d43-b4a8d7aac8ee",
        "colab": {
          "base_uri": "https://localhost:8080/",
          "height": 34
        }
      },
      "source": [
        "x[5:]"
      ],
      "execution_count": 0,
      "outputs": [
        {
          "output_type": "execute_result",
          "data": {
            "text/plain": [
              "array([5, 6, 7, 8, 9])"
            ]
          },
          "metadata": {
            "tags": []
          },
          "execution_count": 44
        }
      ]
    },
    {
      "cell_type": "code",
      "metadata": {
        "id": "88nF0fUCqktV",
        "colab_type": "code",
        "outputId": "31feea25-6966-4fc1-ba47-f04c7eecc26c",
        "colab": {
          "base_uri": "https://localhost:8080/",
          "height": 34
        }
      },
      "source": [
        "x[4:7]"
      ],
      "execution_count": 0,
      "outputs": [
        {
          "output_type": "execute_result",
          "data": {
            "text/plain": [
              "array([4, 5, 6])"
            ]
          },
          "metadata": {
            "tags": []
          },
          "execution_count": 45
        }
      ]
    },
    {
      "cell_type": "code",
      "metadata": {
        "id": "k3RUfZ0lqnF3",
        "colab_type": "code",
        "outputId": "1556071d-ddc9-4990-bab7-24fc8080d895",
        "colab": {
          "base_uri": "https://localhost:8080/",
          "height": 34
        }
      },
      "source": [
        "x[::2]"
      ],
      "execution_count": 0,
      "outputs": [
        {
          "output_type": "execute_result",
          "data": {
            "text/plain": [
              "array([0, 2, 4, 6, 8])"
            ]
          },
          "metadata": {
            "tags": []
          },
          "execution_count": 46
        }
      ]
    },
    {
      "cell_type": "code",
      "metadata": {
        "id": "VyEOv--oqsXZ",
        "colab_type": "code",
        "outputId": "2966f130-bd92-4dd8-8dba-b462340e5e60",
        "colab": {
          "base_uri": "https://localhost:8080/",
          "height": 34
        }
      },
      "source": [
        "  x[1::2]"
      ],
      "execution_count": 0,
      "outputs": [
        {
          "output_type": "execute_result",
          "data": {
            "text/plain": [
              "array([1, 3, 5, 7, 9])"
            ]
          },
          "metadata": {
            "tags": []
          },
          "execution_count": 47
        }
      ]
    },
    {
      "cell_type": "code",
      "metadata": {
        "id": "KLL_ROr3qyZe",
        "colab_type": "code",
        "outputId": "aee84cf7-dd7d-4d8a-81a7-e0d528ad9010",
        "colab": {
          "base_uri": "https://localhost:8080/",
          "height": 34
        }
      },
      "source": [
        "x[::-1]"
      ],
      "execution_count": 0,
      "outputs": [
        {
          "output_type": "execute_result",
          "data": {
            "text/plain": [
              "array([9, 8, 7, 6, 5, 4, 3, 2, 1, 0])"
            ]
          },
          "metadata": {
            "tags": []
          },
          "execution_count": 48
        }
      ]
    },
    {
      "cell_type": "code",
      "metadata": {
        "id": "saI8nW1_q0dG",
        "colab_type": "code",
        "outputId": "d5f879e6-7fb3-4daa-e129-6a62572f9030",
        "colab": {
          "base_uri": "https://localhost:8080/",
          "height": 34
        }
      },
      "source": [
        "x[5::-2]"
      ],
      "execution_count": 0,
      "outputs": [
        {
          "output_type": "execute_result",
          "data": {
            "text/plain": [
              "array([5, 3, 1])"
            ]
          },
          "metadata": {
            "tags": []
          },
          "execution_count": 49
        }
      ]
    },
    {
      "cell_type": "code",
      "metadata": {
        "id": "eRmBBm6zq2r_",
        "colab_type": "code",
        "outputId": "4ed21e46-37ef-4d97-85bb-21d5fb48bdfa",
        "colab": {
          "base_uri": "https://localhost:8080/",
          "height": 68
        }
      },
      "source": [
        "x2"
      ],
      "execution_count": 0,
      "outputs": [
        {
          "output_type": "execute_result",
          "data": {
            "text/plain": [
              "array([[12,  5,  2,  4],\n",
              "       [ 7,  6,  8,  8],\n",
              "       [ 1,  6,  7,  7]])"
            ]
          },
          "metadata": {
            "tags": []
          },
          "execution_count": 50
        }
      ]
    },
    {
      "cell_type": "code",
      "metadata": {
        "id": "0FOcmzSyq6fz",
        "colab_type": "code",
        "outputId": "5fe9dac5-219e-415c-83d8-ae95daefbced",
        "colab": {
          "base_uri": "https://localhost:8080/",
          "height": 51
        }
      },
      "source": [
        "x2[:2, :3]"
      ],
      "execution_count": 0,
      "outputs": [
        {
          "output_type": "execute_result",
          "data": {
            "text/plain": [
              "array([[12,  5,  2],\n",
              "       [ 7,  6,  8]])"
            ]
          },
          "metadata": {
            "tags": []
          },
          "execution_count": 51
        }
      ]
    },
    {
      "cell_type": "code",
      "metadata": {
        "id": "ejrRul_Xq9hK",
        "colab_type": "code",
        "outputId": "9c887724-f719-4581-82fb-cb5556321c83",
        "colab": {
          "base_uri": "https://localhost:8080/",
          "height": 68
        }
      },
      "source": [
        "x2[:3, ::2]"
      ],
      "execution_count": 0,
      "outputs": [
        {
          "output_type": "execute_result",
          "data": {
            "text/plain": [
              "array([[12,  2],\n",
              "       [ 7,  8],\n",
              "       [ 1,  7]])"
            ]
          },
          "metadata": {
            "tags": []
          },
          "execution_count": 52
        }
      ]
    },
    {
      "cell_type": "code",
      "metadata": {
        "id": "DQErYSmirABW",
        "colab_type": "code",
        "outputId": "130a3063-5ef6-4404-80ba-2c1f674a7efa",
        "colab": {
          "base_uri": "https://localhost:8080/",
          "height": 68
        }
      },
      "source": [
        "x2[::-1, ::-1]"
      ],
      "execution_count": 0,
      "outputs": [
        {
          "output_type": "execute_result",
          "data": {
            "text/plain": [
              "array([[ 7,  7,  6,  1],\n",
              "       [ 8,  8,  6,  7],\n",
              "       [ 4,  2,  5, 12]])"
            ]
          },
          "metadata": {
            "tags": []
          },
          "execution_count": 53
        }
      ]
    },
    {
      "cell_type": "code",
      "metadata": {
        "id": "knsmAnT4rDJh",
        "colab_type": "code",
        "outputId": "cf47d41d-4261-4c84-9bc2-c3fe18e16512",
        "colab": {
          "base_uri": "https://localhost:8080/",
          "height": 34
        }
      },
      "source": [
        "print(x2[:, 0])"
      ],
      "execution_count": 0,
      "outputs": [
        {
          "output_type": "stream",
          "text": [
            "[12  7  1]\n"
          ],
          "name": "stdout"
        }
      ]
    },
    {
      "cell_type": "code",
      "metadata": {
        "id": "z7kkZyEhrIns",
        "colab_type": "code",
        "outputId": "8bf77780-c596-465b-95b0-38645e87023c",
        "colab": {
          "base_uri": "https://localhost:8080/",
          "height": 34
        }
      },
      "source": [
        "print(x2[0, :])"
      ],
      "execution_count": 0,
      "outputs": [
        {
          "output_type": "stream",
          "text": [
            "[12  5  2  4]\n"
          ],
          "name": "stdout"
        }
      ]
    },
    {
      "cell_type": "code",
      "metadata": {
        "id": "Io7bdRvXrMCG",
        "colab_type": "code",
        "outputId": "a1f53765-52f5-442e-d781-4e9e5cf3c8e8",
        "colab": {
          "base_uri": "https://localhost:8080/",
          "height": 34
        }
      },
      "source": [
        "print(x2[0])"
      ],
      "execution_count": 0,
      "outputs": [
        {
          "output_type": "stream",
          "text": [
            "[12  5  2  4]\n"
          ],
          "name": "stdout"
        }
      ]
    },
    {
      "cell_type": "code",
      "metadata": {
        "id": "TfHVQT4zrN3n",
        "colab_type": "code",
        "outputId": "a665953a-34f5-4b56-89bf-88960aa2d429",
        "colab": {
          "base_uri": "https://localhost:8080/",
          "height": 68
        }
      },
      "source": [
        "print(x2)"
      ],
      "execution_count": 0,
      "outputs": [
        {
          "output_type": "stream",
          "text": [
            "[[12  5  2  4]\n",
            " [ 7  6  8  8]\n",
            " [ 1  6  7  7]]\n"
          ],
          "name": "stdout"
        }
      ]
    },
    {
      "cell_type": "code",
      "metadata": {
        "id": "mB1uL9wurR5k",
        "colab_type": "code",
        "outputId": "8d5ed6b0-f47b-45d5-cde0-1459edfa9163",
        "colab": {
          "base_uri": "https://localhost:8080/",
          "height": 51
        }
      },
      "source": [
        "x2_sub = x2[:2, :2]\n",
        "print(x2_sub)"
      ],
      "execution_count": 0,
      "outputs": [
        {
          "output_type": "stream",
          "text": [
            "[[12  5]\n",
            " [ 7  6]]\n"
          ],
          "name": "stdout"
        }
      ]
    },
    {
      "cell_type": "code",
      "metadata": {
        "id": "iBo-2dgXrVFi",
        "colab_type": "code",
        "outputId": "415b33bf-486c-4abb-a4fa-54b4a723d0d6",
        "colab": {
          "base_uri": "https://localhost:8080/",
          "height": 51
        }
      },
      "source": [
        "x2_sub[0, 0] = 99\n",
        "print(x2_sub)"
      ],
      "execution_count": 0,
      "outputs": [
        {
          "output_type": "stream",
          "text": [
            "[[99  5]\n",
            " [ 7  6]]\n"
          ],
          "name": "stdout"
        }
      ]
    },
    {
      "cell_type": "code",
      "metadata": {
        "id": "A1zY5Md8rWp1",
        "colab_type": "code",
        "outputId": "d3a16d8d-4801-4ae5-e178-29b31c49a588",
        "colab": {
          "base_uri": "https://localhost:8080/",
          "height": 68
        }
      },
      "source": [
        "print(x2)"
      ],
      "execution_count": 0,
      "outputs": [
        {
          "output_type": "stream",
          "text": [
            "[[99  5  2  4]\n",
            " [ 7  6  8  8]\n",
            " [ 1  6  7  7]]\n"
          ],
          "name": "stdout"
        }
      ]
    },
    {
      "cell_type": "code",
      "metadata": {
        "id": "n1SJcXyUrc8j",
        "colab_type": "code",
        "outputId": "0d97f2f7-1d30-4ba9-971d-aa1bdb0aadc4",
        "colab": {
          "base_uri": "https://localhost:8080/",
          "height": 51
        }
      },
      "source": [
        "x2_sub_copy = x2[:2, :2].copy()\n",
        "print(x2_sub_copy)"
      ],
      "execution_count": 0,
      "outputs": [
        {
          "output_type": "stream",
          "text": [
            "[[99  5]\n",
            " [ 7  6]]\n"
          ],
          "name": "stdout"
        }
      ]
    },
    {
      "cell_type": "code",
      "metadata": {
        "id": "Ag6MxZvrrhDU",
        "colab_type": "code",
        "outputId": "89be641f-6cd9-462f-9bfc-6ae817002e0b",
        "colab": {
          "base_uri": "https://localhost:8080/",
          "height": 51
        }
      },
      "source": [
        "x2_sub_copy[0, 0] = 42\n",
        "print(x2_sub_copy)"
      ],
      "execution_count": 0,
      "outputs": [
        {
          "output_type": "stream",
          "text": [
            "[[42  5]\n",
            " [ 7  6]]\n"
          ],
          "name": "stdout"
        }
      ]
    },
    {
      "cell_type": "code",
      "metadata": {
        "id": "KOFQ2cgrrsEl",
        "colab_type": "code",
        "outputId": "2e59b695-4f92-4e16-ac82-c8fa99d95265",
        "colab": {
          "base_uri": "https://localhost:8080/",
          "height": 68
        }
      },
      "source": [
        "print(x2)"
      ],
      "execution_count": 0,
      "outputs": [
        {
          "output_type": "stream",
          "text": [
            "[[99  5  2  4]\n",
            " [ 7  6  8  8]\n",
            " [ 1  6  7  7]]\n"
          ],
          "name": "stdout"
        }
      ]
    },
    {
      "cell_type": "code",
      "metadata": {
        "id": "lUMEt_Z2rvIR",
        "colab_type": "code",
        "outputId": "b7d37399-9955-481d-861d-c054ea7896a9",
        "colab": {
          "base_uri": "https://localhost:8080/",
          "height": 68
        }
      },
      "source": [
        "grid = np.arange(1, 10).reshape((3, 3))\n",
        "print(grid)"
      ],
      "execution_count": 0,
      "outputs": [
        {
          "output_type": "stream",
          "text": [
            "[[1 2 3]\n",
            " [4 5 6]\n",
            " [7 8 9]]\n"
          ],
          "name": "stdout"
        }
      ]
    },
    {
      "cell_type": "code",
      "metadata": {
        "id": "aaq-rYqVryJr",
        "colab_type": "code",
        "outputId": "28867c20-8d27-441c-a6a8-53bedc4a21b0",
        "colab": {
          "base_uri": "https://localhost:8080/",
          "height": 34
        }
      },
      "source": [
        "x = np.array([1, 2, 3])\n",
        "x.reshape((1, 3))"
      ],
      "execution_count": 0,
      "outputs": [
        {
          "output_type": "execute_result",
          "data": {
            "text/plain": [
              "array([[1, 2, 3]])"
            ]
          },
          "metadata": {
            "tags": []
          },
          "execution_count": 65
        }
      ]
    },
    {
      "cell_type": "code",
      "metadata": {
        "id": "uoBBgufqr25u",
        "colab_type": "code",
        "outputId": "721da745-6675-4ac3-b566-0cbf63bc4094",
        "colab": {
          "base_uri": "https://localhost:8080/",
          "height": 34
        }
      },
      "source": [
        "x[np.newaxis, :]"
      ],
      "execution_count": 0,
      "outputs": [
        {
          "output_type": "execute_result",
          "data": {
            "text/plain": [
              "array([[1, 2, 3]])"
            ]
          },
          "metadata": {
            "tags": []
          },
          "execution_count": 66
        }
      ]
    },
    {
      "cell_type": "code",
      "metadata": {
        "id": "Vw0P4L-4r6Jr",
        "colab_type": "code",
        "outputId": "621f0932-0d92-4a0c-d870-6bae0a8a422e",
        "colab": {
          "base_uri": "https://localhost:8080/",
          "height": 68
        }
      },
      "source": [
        "x.reshape((3, 1))"
      ],
      "execution_count": 0,
      "outputs": [
        {
          "output_type": "execute_result",
          "data": {
            "text/plain": [
              "array([[1],\n",
              "       [2],\n",
              "       [3]])"
            ]
          },
          "metadata": {
            "tags": []
          },
          "execution_count": 67
        }
      ]
    },
    {
      "cell_type": "code",
      "metadata": {
        "id": "UvBWpcdyr86d",
        "colab_type": "code",
        "outputId": "44a18a6e-4c67-4021-aa03-4ff20eb19c35",
        "colab": {
          "base_uri": "https://localhost:8080/",
          "height": 68
        }
      },
      "source": [
        "x[:, np.newaxis]"
      ],
      "execution_count": 0,
      "outputs": [
        {
          "output_type": "execute_result",
          "data": {
            "text/plain": [
              "array([[1],\n",
              "       [2],\n",
              "       [3]])"
            ]
          },
          "metadata": {
            "tags": []
          },
          "execution_count": 68
        }
      ]
    },
    {
      "cell_type": "code",
      "metadata": {
        "id": "ydOW4TIasAQZ",
        "colab_type": "code",
        "outputId": "f6ecbdba-0c2c-4675-c11e-256f668c43ed",
        "colab": {
          "base_uri": "https://localhost:8080/",
          "height": 34
        }
      },
      "source": [
        "x = np.array([1, 2, 3])\n",
        "y = np.array([3, 2, 1])\n",
        "np.concatenate([x, y])"
      ],
      "execution_count": 0,
      "outputs": [
        {
          "output_type": "execute_result",
          "data": {
            "text/plain": [
              "array([1, 2, 3, 3, 2, 1])"
            ]
          },
          "metadata": {
            "tags": []
          },
          "execution_count": 69
        }
      ]
    },
    {
      "cell_type": "code",
      "metadata": {
        "id": "AYFfNF1lsERp",
        "colab_type": "code",
        "outputId": "c6495a5b-102a-4772-e683-a92f41730887",
        "colab": {
          "base_uri": "https://localhost:8080/",
          "height": 34
        }
      },
      "source": [
        "z = [99, 99, 99]\n",
        "print(np.concatenate([x, y, z]))"
      ],
      "execution_count": 0,
      "outputs": [
        {
          "output_type": "stream",
          "text": [
            "[ 1  2  3  3  2  1 99 99 99]\n"
          ],
          "name": "stdout"
        }
      ]
    },
    {
      "cell_type": "code",
      "metadata": {
        "id": "62xlrr28sHpZ",
        "colab_type": "code",
        "outputId": "854f261e-6473-4fd3-c6b2-899343abe4c6",
        "colab": {
          "base_uri": "https://localhost:8080/",
          "height": 85
        }
      },
      "source": [
        "grid = np.array([[1, 2, 3],\n",
        "[4, 5, 6]])\n",
        "np.concatenate([grid, grid])"
      ],
      "execution_count": 0,
      "outputs": [
        {
          "output_type": "execute_result",
          "data": {
            "text/plain": [
              "array([[1, 2, 3],\n",
              "       [4, 5, 6],\n",
              "       [1, 2, 3],\n",
              "       [4, 5, 6]])"
            ]
          },
          "metadata": {
            "tags": []
          },
          "execution_count": 71
        }
      ]
    },
    {
      "cell_type": "code",
      "metadata": {
        "id": "m5z1pRl6sPC6",
        "colab_type": "code",
        "outputId": "503b953f-9c52-429a-dda6-9625a2bb0c7e",
        "colab": {
          "base_uri": "https://localhost:8080/",
          "height": 51
        }
      },
      "source": [
        "np.concatenate([grid, grid], axis=1)"
      ],
      "execution_count": 0,
      "outputs": [
        {
          "output_type": "execute_result",
          "data": {
            "text/plain": [
              "array([[1, 2, 3, 1, 2, 3],\n",
              "       [4, 5, 6, 4, 5, 6]])"
            ]
          },
          "metadata": {
            "tags": []
          },
          "execution_count": 72
        }
      ]
    },
    {
      "cell_type": "code",
      "metadata": {
        "id": "VqwVqlhUsQZ0",
        "colab_type": "code",
        "outputId": "8a710117-70e4-4549-87f9-97050b43f044",
        "colab": {
          "base_uri": "https://localhost:8080/",
          "height": 68
        }
      },
      "source": [
        "x = np.array([1, 2, 3])\n",
        "grid = np.array([[9, 8, 7],\n",
        "[6, 5, 4]])\n",
        "np.vstack([x, grid])"
      ],
      "execution_count": 0,
      "outputs": [
        {
          "output_type": "execute_result",
          "data": {
            "text/plain": [
              "array([[1, 2, 3],\n",
              "       [9, 8, 7],\n",
              "       [6, 5, 4]])"
            ]
          },
          "metadata": {
            "tags": []
          },
          "execution_count": 73
        }
      ]
    },
    {
      "cell_type": "code",
      "metadata": {
        "id": "N7QN0eCjsYO7",
        "colab_type": "code",
        "outputId": "2ace9353-e8bd-488a-e8e0-d36e95f40ba4",
        "colab": {
          "base_uri": "https://localhost:8080/",
          "height": 51
        }
      },
      "source": [
        "y = np.array([[99],\n",
        "[99]])\n",
        "np.hstack([grid, y])"
      ],
      "execution_count": 0,
      "outputs": [
        {
          "output_type": "execute_result",
          "data": {
            "text/plain": [
              "array([[ 9,  8,  7, 99],\n",
              "       [ 6,  5,  4, 99]])"
            ]
          },
          "metadata": {
            "tags": []
          },
          "execution_count": 74
        }
      ]
    },
    {
      "cell_type": "code",
      "metadata": {
        "id": "yDVIVQwCsZ3o",
        "colab_type": "code",
        "outputId": "c6b3ebc5-70bc-40ae-cbdc-a2c5730b05bc",
        "colab": {
          "base_uri": "https://localhost:8080/",
          "height": 34
        }
      },
      "source": [
        "x = [1, 2, 3, 99, 99, 3, 2, 1]\n",
        "x1, x2, x3 = np.split(x, [3, 5])\n",
        "print(x1, x2, x3)"
      ],
      "execution_count": 0,
      "outputs": [
        {
          "output_type": "stream",
          "text": [
            "[1 2 3] [99 99] [3 2 1]\n"
          ],
          "name": "stdout"
        }
      ]
    },
    {
      "cell_type": "code",
      "metadata": {
        "id": "cODi9SZcsfqX",
        "colab_type": "code",
        "outputId": "8f29087a-0bfe-420f-efd2-e9ae092363d8",
        "colab": {
          "base_uri": "https://localhost:8080/",
          "height": 85
        }
      },
      "source": [
        "grid = np.arange(16).reshape((4, 4))\n",
        "grid"
      ],
      "execution_count": 0,
      "outputs": [
        {
          "output_type": "execute_result",
          "data": {
            "text/plain": [
              "array([[ 0,  1,  2,  3],\n",
              "       [ 4,  5,  6,  7],\n",
              "       [ 8,  9, 10, 11],\n",
              "       [12, 13, 14, 15]])"
            ]
          },
          "metadata": {
            "tags": []
          },
          "execution_count": 76
        }
      ]
    },
    {
      "cell_type": "code",
      "metadata": {
        "id": "9g-q80RUsg8P",
        "colab_type": "code",
        "outputId": "12a19001-7ecd-40a4-884d-ee4460509a98",
        "colab": {
          "base_uri": "https://localhost:8080/",
          "height": 85
        }
      },
      "source": [
        "upper, lower = np.vsplit(grid, [2])\n",
        "print(upper)\n",
        "print(lower)"
      ],
      "execution_count": 0,
      "outputs": [
        {
          "output_type": "stream",
          "text": [
            "[[0 1 2 3]\n",
            " [4 5 6 7]]\n",
            "[[ 8  9 10 11]\n",
            " [12 13 14 15]]\n"
          ],
          "name": "stdout"
        }
      ]
    },
    {
      "cell_type": "code",
      "metadata": {
        "id": "Nnz-JiIcsjoY",
        "colab_type": "code",
        "outputId": "aa069da1-fd55-4089-d540-fd1e9c74c40e",
        "colab": {
          "base_uri": "https://localhost:8080/",
          "height": 153
        }
      },
      "source": [
        "left, right = np.hsplit(grid, [2])\n",
        "print(left)\n",
        "print(right)"
      ],
      "execution_count": 0,
      "outputs": [
        {
          "output_type": "stream",
          "text": [
            "[[ 0  1]\n",
            " [ 4  5]\n",
            " [ 8  9]\n",
            " [12 13]]\n",
            "[[ 2  3]\n",
            " [ 6  7]\n",
            " [10 11]\n",
            " [14 15]]\n"
          ],
          "name": "stdout"
        }
      ]
    },
    {
      "cell_type": "code",
      "metadata": {
        "id": "5-41J9_heeVB",
        "colab_type": "code",
        "colab": {
          "base_uri": "https://localhost:8080/",
          "height": 34
        },
        "outputId": "49796da9-a20d-4c93-cd37-d6d397c1c40b"
      },
      "source": [
        "np.random.seed(0)\n",
        "def compute_reciprocals(values):\n",
        "  output = np.empty(len(values))\n",
        "  for i in range(len(values)):\n",
        "    output[i] = 1.0/values[i]\n",
        "  return output\n",
        "values = np.random.randint(1, 10, size=5)\n",
        "compute_reciprocals(values)"
      ],
      "execution_count": 6,
      "outputs": [
        {
          "output_type": "execute_result",
          "data": {
            "text/plain": [
              "array([0.16666667, 1.        , 0.25      , 0.25      , 0.125     ])"
            ]
          },
          "metadata": {
            "tags": []
          },
          "execution_count": 6
        }
      ]
    }
  ]
}